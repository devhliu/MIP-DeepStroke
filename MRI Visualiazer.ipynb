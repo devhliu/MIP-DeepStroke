{
 "cells": [
  {
   "cell_type": "code",
   "execution_count": 77,
   "metadata": {},
   "outputs": [],
   "source": [
    "#inside an IPython notebook\n",
    "%matplotlib inline\n",
    "from IPython.html.widgets import interact, interactive, fixed\n",
    "import ipywidgets as widgets\n",
    "from IPython.display import clear_output, display, HTML\n",
    "import matplotlib.pyplot as plt\n",
    "import os\n",
    "from glob import glob\n",
    "import nibabel as nb"
   ]
  },
  {
   "cell_type": "code",
   "execution_count": 78,
   "metadata": {},
   "outputs": [],
   "source": [
    "def show_image(x, y, z, path ):\n",
    "    import nibabel as nb\n",
    "    import numpy as np\n",
    "    import matplotlib.pyplot as plt\n",
    "    img = nb.load(path)\n",
    "    img_data = img.get_data()\n",
    "    \n",
    "    fig = plt.figure(figsize = (20, 20)) \n",
    "    plt.subplot(1, 3, 1)\n",
    "    plt.imshow(np.rot90(img_data[:,:,z]),\n",
    "                        cmap = plt.cm.jet,\n",
    "                        interpolation = 'nearest'\n",
    "                        )\n",
    "    plt.subplot(1, 3, 2)\n",
    "    plt.imshow(np.rot90(img_data[:,y,:]),\n",
    "                        cmap = plt.cm.jet,\n",
    "                        interpolation = 'nearest'\n",
    "                        )\n",
    "    plt.subplot(1, 3, 3)\n",
    "    plt.imshow(np.rot90(img_data[x,:,:]),\n",
    "                        cmap = plt.cm.jet,\n",
    "                        interpolation = 'nearest'\n",
    "                        )"
   ]
  },
  {
   "cell_type": "code",
   "execution_count": 79,
   "metadata": {},
   "outputs": [],
   "source": [
    "def get_platform():\n",
    "    \"\"\"\n",
    "    Gets the platform where the code is running.\n",
    "    :return: The platform name\n",
    "    \"\"\"\n",
    "    platforms = {\n",
    "        'linux': 'Linux',\n",
    "        'darwin': 'OS X',\n",
    "        'win32': 'Windows'\n",
    "    }\n",
    "    if sys.platform not in platforms:\n",
    "        return sys.platform\n",
    "\n",
    "    return platforms[sys.platform]\n",
    "\n",
    "def mount_disk():\n",
    "    partitions = glob(\"/media/simon/*\")\n",
    "    return partitions[0]"
   ]
  },
  {
   "cell_type": "code",
   "execution_count": 83,
   "metadata": {},
   "outputs": [
    {
     "data": {
      "application/vnd.jupyter.widget-view+json": {
       "model_id": "4291012a8e0047b6b7569a5a89c212db",
       "version_major": 2,
       "version_minor": 0
      },
      "text/html": [
       "<p>Failed to display Jupyter Widget of type <code>interactive</code>.</p>\n",
       "<p>\n",
       "  If you're reading this message in the Jupyter Notebook or JupyterLab Notebook, it may mean\n",
       "  that the widgets JavaScript is still loading. If this message persists, it\n",
       "  likely means that the widgets JavaScript library is either not installed or\n",
       "  not enabled. See the <a href=\"https://ipywidgets.readthedocs.io/en/stable/user_install.html\">Jupyter\n",
       "  Widgets Documentation</a> for setup instructions.\n",
       "</p>\n",
       "<p>\n",
       "  If you're reading this message in another frontend (for example, a static\n",
       "  rendering on GitHub or <a href=\"https://nbviewer.jupyter.org/\">NBViewer</a>),\n",
       "  it may mean that your frontend doesn't currently support widgets.\n",
       "</p>\n"
      ],
      "text/plain": [
       "interactive(children=(IntSlider(value=40, description='x', max=74), IntSlider(value=48, description='y', max=95), IntSlider(value=40, description='z', max=74), Text(value='/media/simon/6E6CA85A6CA81EB9/Users/simon/Documents/EPFL/Master/Semester4/Semester Project/mri/mri/wrVOI_lesion.nii', description='path'), Output()), _dom_classes=('widget-interact',))"
      ]
     },
     "metadata": {},
     "output_type": "display_data"
    },
    {
     "data": {
      "text/plain": [
       "<function __main__.show_image>"
      ]
     },
     "execution_count": 83,
     "metadata": {},
     "output_type": "execute_result"
    }
   ],
   "source": [
    "folder_path = os.path.join('Users', 'simon', 'Documents', 'EPFL', 'Master', 'Semester4', 'Semester Project', 'mri')\n",
    "\n",
    "p=get_platform()\n",
    "data_path = None\n",
    "if p is 'Linux':\n",
    "    data_path = os.path.join(mount_disk(), folder_path)\n",
    "elif p is 'Windows':\n",
    "    data_path = os.path.join('C:', folder_path)\n",
    "perfusion_path = os.path.join(data_path, 'perfusion_CT')\n",
    "mni_path = os.path.join(data_path, 'MNI_templates')\n",
    "mri_path = os.path.join(data_path, 'mri')\n",
    "\n",
    "data_path = os.path.join(mri_path, 'wrVOI_lesion.nii')\n",
    "    \n",
    "    \n",
    "interact( show_image, path = data_path,\n",
    "         z=widgets.IntSlider(min=0,max=74,step=1,value=40),\n",
    "         y=widgets.IntSlider(min=0,max=95,step=1,value=48),\n",
    "x=widgets.IntSlider(min=0,max=74,step=1,value=40) )"
   ]
  },
  {
   "cell_type": "code",
   "execution_count": null,
   "metadata": {},
   "outputs": [],
   "source": []
  }
 ],
 "metadata": {
  "kernelspec": {
   "display_name": "Python 3",
   "language": "python",
   "name": "python3"
  },
  "language_info": {
   "codemirror_mode": {
    "name": "ipython",
    "version": 3
   },
   "file_extension": ".py",
   "mimetype": "text/x-python",
   "name": "python",
   "nbconvert_exporter": "python",
   "pygments_lexer": "ipython3",
   "version": "3.6.4"
  }
 },
 "nbformat": 4,
 "nbformat_minor": 2
}
