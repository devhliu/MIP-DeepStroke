{
 "cells": [
  {
   "cell_type": "code",
   "execution_count": 5,
   "metadata": {},
   "outputs": [],
   "source": [
    "#inside an IPython notebook\n",
    "%matplotlib inline\n",
    "from IPython.html.widgets import interact, interactive, fixed\n",
    "import ipywidgets as widgets\n",
    "from IPython.display import clear_output, display, HTML\n",
    "import matplotlib.pyplot as plt\n",
    "import os\n",
    "from glob import glob\n",
    "import nibabel as nb"
   ]
  },
  {
   "cell_type": "code",
   "execution_count": 6,
   "metadata": {},
   "outputs": [],
   "source": [
    "def show_image(x, y, z, path ):\n",
    "    import nibabel as nb\n",
    "    import numpy as np\n",
    "    import matplotlib.pyplot as plt\n",
    "    img = nb.load(path)\n",
    "    img_data = img.get_data()\n",
    "    \n",
    "    fig = plt.figure(figsize = (20, 20)) \n",
    "    plt.subplot(1, 3, 1)\n",
    "    plt.imshow(np.rot90(img_data[:,:,z]),\n",
    "                        cmap = plt.cm.jet,\n",
    "                        interpolation = 'nearest'\n",
    "                        )\n",
    "    plt.subplot(1, 3, 2)\n",
    "    plt.imshow(np.rot90(img_data[:,y,:]),\n",
    "                        cmap = plt.cm.jet,\n",
    "                        interpolation = 'nearest'\n",
    "                        )\n",
    "    plt.subplot(1, 3, 3)\n",
    "    plt.imshow(np.rot90(img_data[x,:,:]),\n",
    "                        cmap = plt.cm.jet,\n",
    "                        interpolation = 'nearest'\n",
    "                        )"
   ]
  },
  {
   "cell_type": "code",
   "execution_count": 7,
   "metadata": {},
   "outputs": [],
   "source": [
    "def get_platform():\n",
    "    \"\"\"\n",
    "    Gets the platform where the code is running.\n",
    "    :return: The platform name\n",
    "    \"\"\"\n",
    "    platforms = {\n",
    "        'linux': 'Linux',\n",
    "        'darwin': 'OS X',\n",
    "        'win32': 'Windows'\n",
    "    }\n",
    "    if sys.platform not in platforms:\n",
    "        return sys.platform\n",
    "\n",
    "    return platforms[sys.platform]\n",
    "\n",
    "def mount_disk():\n",
    "    partitions = glob(\"/media/simon/*\")\n",
    "    return partitions[0]"
   ]
  },
  {
   "cell_type": "code",
   "execution_count": 8,
   "metadata": {},
   "outputs": [
    {
     "ename": "NameError",
     "evalue": "name 'sys' is not defined",
     "output_type": "error",
     "traceback": [
      "\u001b[0;31m---------------------------------------------------------------------------\u001b[0m",
      "\u001b[0;31mNameError\u001b[0m                                 Traceback (most recent call last)",
      "\u001b[0;32m<ipython-input-8-a2362ee3cd8c>\u001b[0m in \u001b[0;36m<module>\u001b[0;34m()\u001b[0m\n\u001b[1;32m      1\u001b[0m \u001b[0mfolder_path\u001b[0m \u001b[0;34m=\u001b[0m \u001b[0mos\u001b[0m\u001b[0;34m.\u001b[0m\u001b[0mpath\u001b[0m\u001b[0;34m.\u001b[0m\u001b[0mjoin\u001b[0m\u001b[0;34m(\u001b[0m\u001b[0;34m'Users'\u001b[0m\u001b[0;34m,\u001b[0m \u001b[0;34m'simon'\u001b[0m\u001b[0;34m,\u001b[0m \u001b[0;34m'Documents'\u001b[0m\u001b[0;34m,\u001b[0m \u001b[0;34m'EPFL'\u001b[0m\u001b[0;34m,\u001b[0m \u001b[0;34m'Master'\u001b[0m\u001b[0;34m,\u001b[0m \u001b[0;34m'Semester4'\u001b[0m\u001b[0;34m,\u001b[0m \u001b[0;34m'Semester Project'\u001b[0m\u001b[0;34m,\u001b[0m \u001b[0;34m'mri'\u001b[0m\u001b[0;34m)\u001b[0m\u001b[0;34m\u001b[0m\u001b[0m\n\u001b[1;32m      2\u001b[0m \u001b[0;34m\u001b[0m\u001b[0m\n\u001b[0;32m----> 3\u001b[0;31m \u001b[0mp\u001b[0m\u001b[0;34m=\u001b[0m\u001b[0mget_platform\u001b[0m\u001b[0;34m(\u001b[0m\u001b[0;34m)\u001b[0m\u001b[0;34m\u001b[0m\u001b[0m\n\u001b[0m\u001b[1;32m      4\u001b[0m \u001b[0mdata_path\u001b[0m \u001b[0;34m=\u001b[0m \u001b[0;32mNone\u001b[0m\u001b[0;34m\u001b[0m\u001b[0m\n\u001b[1;32m      5\u001b[0m \u001b[0;32mif\u001b[0m \u001b[0mp\u001b[0m \u001b[0;32mis\u001b[0m \u001b[0;34m'Linux'\u001b[0m\u001b[0;34m:\u001b[0m\u001b[0;34m\u001b[0m\u001b[0m\n",
      "\u001b[0;32m<ipython-input-7-a2412ec4b0c1>\u001b[0m in \u001b[0;36mget_platform\u001b[0;34m()\u001b[0m\n\u001b[1;32m      9\u001b[0m         \u001b[0;34m'win32'\u001b[0m\u001b[0;34m:\u001b[0m \u001b[0;34m'Windows'\u001b[0m\u001b[0;34m\u001b[0m\u001b[0m\n\u001b[1;32m     10\u001b[0m     }\n\u001b[0;32m---> 11\u001b[0;31m     \u001b[0;32mif\u001b[0m \u001b[0msys\u001b[0m\u001b[0;34m.\u001b[0m\u001b[0mplatform\u001b[0m \u001b[0;32mnot\u001b[0m \u001b[0;32min\u001b[0m \u001b[0mplatforms\u001b[0m\u001b[0;34m:\u001b[0m\u001b[0;34m\u001b[0m\u001b[0m\n\u001b[0m\u001b[1;32m     12\u001b[0m         \u001b[0;32mreturn\u001b[0m \u001b[0msys\u001b[0m\u001b[0;34m.\u001b[0m\u001b[0mplatform\u001b[0m\u001b[0;34m\u001b[0m\u001b[0m\n\u001b[1;32m     13\u001b[0m \u001b[0;34m\u001b[0m\u001b[0m\n",
      "\u001b[0;31mNameError\u001b[0m: name 'sys' is not defined"
     ]
    }
   ],
   "source": [
    "folder_path = os.path.join('Users', 'simon', 'Documents', 'EPFL', 'Master', 'Semester4', 'Semester Project', 'mri')\n",
    "\n",
    "p=get_platform()\n",
    "data_path = None\n",
    "if p is 'Linux':\n",
    "    data_path = os.path.join(mount_disk(), folder_path)\n",
    "elif p is 'Windows':\n",
    "    data_path = os.path.join('C:', folder_path)\n",
    "perfusion_path = os.path.join(data_path, 'perfusion_CT')\n",
    "mni_path = os.path.join(data_path, 'MNI_templates')\n",
    "mri_path = os.path.join(data_path, 'mri')\n",
    "\n",
    "data_path = os.path.join(mri_path, 'wrVOI_lesion.nii')\n",
    "    \n",
    "    \n",
    "interact( show_image, path = data_path,\n",
    "         z=widgets.IntSlider(min=0,max=74,step=1,value=40),\n",
    "         y=widgets.IntSlider(min=0,max=95,step=1,value=48),\n",
    "x=widgets.IntSlider(min=0,max=74,step=1,value=40) )"
   ]
  },
  {
   "cell_type": "code",
   "execution_count": null,
   "metadata": {},
   "outputs": [],
   "source": []
  }
 ],
 "metadata": {
  "kernelspec": {
   "display_name": "Python 3",
   "language": "python",
   "name": "python3"
  },
  "language_info": {
   "codemirror_mode": {
    "name": "ipython",
    "version": 3
   },
   "file_extension": ".py",
   "mimetype": "text/x-python",
   "name": "python",
   "nbconvert_exporter": "python",
   "pygments_lexer": "ipython3",
   "version": "3.6.4"
  }
 },
 "nbformat": 4,
 "nbformat_minor": 2
}
