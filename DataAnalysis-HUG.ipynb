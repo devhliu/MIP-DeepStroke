{
 "cells": [
  {
   "cell_type": "code",
   "execution_count": 10,
   "metadata": {},
   "outputs": [],
   "source": [
    "%matplotlib inline\n",
    "import nibabel\n",
    "import os\n",
    "import numpy as np\n",
    "import matplotlib.pyplot as plt\n",
    "from matplotlib import colors\n",
    "from ipywidgets import interact, widget, IntSlider\n",
    "from skimage import measure"
   ]
  },
  {
   "cell_type": "code",
   "execution_count": 18,
   "metadata": {},
   "outputs": [
    {
     "name": "stdout",
     "output_type": "stream",
     "text": [
      "Number of patients : 37\n"
     ]
    }
   ],
   "source": [
    "folderpath = \"/home/snarduzz/Data/\"\n",
    "lesion_files = [os.path.join(folderpath,x) for x in os.listdir(folderpath) if x.startswith(\"wcoreg\") and (\"VOI\") in x]\n",
    "brain_file =  [os.path.join(folderpath,x) for x in os.listdir(folderpath) if x.startswith(\"wcoreg\") and (\"t2\") in x][0]\n",
    "\n",
    "# Load data of patients\n",
    "list_lesion_data = []\n",
    "for file in lesion_files:\n",
    "    x = nibabel.load(file).get_data()\n",
    "    list_lesion_data.append(x)\n",
    "numpy_lesions = np.array(list_lesion_data)\n",
    "\n",
    "# Load a reference MRI coregistrated scan\n",
    "T2 = nibabel.load(brain_file).get_data()\n",
    "\n",
    "print(\"Number of patients : {}\".format(len(lesion_files)))"
   ]
  },
  {
   "cell_type": "markdown",
   "metadata": {},
   "source": [
    "The dataset contains 37 valid patients (scan can be coregistrated)."
   ]
  },
  {
   "cell_type": "markdown",
   "metadata": {},
   "source": [
    "## Location of lesions"
   ]
  },
  {
   "cell_type": "code",
   "execution_count": 19,
   "metadata": {},
   "outputs": [],
   "source": [
    "s = np.sum(numpy_lesions,axis=0)\n",
    "voxel_size = [np.sum(x) for x in numpy_lesions]\n",
    "\n",
    "merged_image = np.empty(shape=(s.shape[0], s.shape[1], s.shape[2],3))\n",
    "merged_image[:,:,:,0] = (s/np.max(s))\n",
    "merged_image[:,:,:,2] = (T2/np.max(T2))"
   ]
  },
  {
   "cell_type": "code",
   "execution_count": 20,
   "metadata": {},
   "outputs": [],
   "source": [
    "def plot_lesion_heatmap(layer):\n",
    "    ax = plt.figure(figsize=[10,10])\n",
    "    plt.imshow((merged_image[:,:,layer,:]* 255).astype(np.uint8))\n",
    "    plt.title(\"Sum of lesion locations\",fontsize=20)\n",
    "    norm = colors.Normalize(vmin=0, vmax=np.max(s))\n",
    "    \n",
    "    #Create colormap\n",
    "    C = np.array([(x,0,0) for x in range(255)]) # Black to red, linear\n",
    "    cm = colors.ListedColormap(C/255.0)\n",
    "    sm = plt.cm.ScalarMappable(cmap=cm, norm=norm)\n",
    "    sm.set_array([])\n",
    "    plt.colorbar(sm,fraction=0.0385, pad=0.04)"
   ]
  },
  {
   "cell_type": "code",
   "execution_count": 21,
   "metadata": {},
   "outputs": [
    {
     "data": {
      "application/vnd.jupyter.widget-view+json": {
       "model_id": "3031df38354343b4bdf71c5526088989",
       "version_major": 2,
       "version_minor": 0
      },
      "text/plain": [
       "interactive(children=(IntSlider(value=40, description='layer', max=78), Output()), _dom_classes=('widget-inter…"
      ]
     },
     "metadata": {},
     "output_type": "display_data"
    }
   ],
   "source": [
    "interactive_plot = interact(plot_lesion_heatmap, layer=IntSlider(min=0,max=s.shape[2]-1,step=1,value=40))"
   ]
  },
  {
   "cell_type": "markdown",
   "metadata": {},
   "source": [
    "We can observe that the dataset is imbalanced, with about 30% of the patient that have a lesion in the right "
   ]
  },
  {
   "cell_type": "code",
   "execution_count": 16,
   "metadata": {},
   "outputs": [
    {
     "data": {
      "image/png": "[encoded data removed]",
      "text/plain": [
       "<Figure size 720x360 with 1 Axes>"
      ]
     },
     "metadata": {
      "needs_background": "light"
     },
     "output_type": "display_data"
    }
   ],
   "source": [
    "plt.figure(figsize=(10,5))\n",
    "plt.hist(voxel_size,color=\"r\")\n",
    "plt.title(\"Distribution of infracted voxels in patient\",size=20)\n",
    "plt.xlabel(\"Infracted voxels\")\n",
    "plt.ylabel(\"Number of patients\")\n",
    "plt.show()"
   ]
  },
  {
   "cell_type": "code",
   "execution_count": 17,
   "metadata": {},
   "outputs": [
    {
     "data": {
      "image/png": "[encoded data removed]",
      "text/plain": [
       "<Figure size 720x360 with 1 Axes>"
      ]
     },
     "metadata": {
      "needs_background": "light"
     },
     "output_type": "display_data"
    }
   ],
   "source": [
    "number_lesions = [np.max(measure.label(x, background=0)) for x in list_lesion_data]\n",
    "plt.figure(figsize=[10,5])\n",
    "plt.hist(number_lesions)\n",
    "plt.title(\"Distribution of infracted sites per patient\",size=20)\n",
    "plt.xlabel(\"Number of infracted sites\")\n",
    "plt.xlabel(\"Number of patients\")\n",
    "plt.show()"
   ]
  }
 ],
 "metadata": {
  "kernelspec": {
   "display_name": "Python 3",
   "language": "python",
   "name": "python3"
  },
  "language_info": {
   "codemirror_mode": {
    "name": "ipython",
    "version": 3
   },
   "file_extension": ".py",
   "mimetype": "text/x-python",
   "name": "python",
   "nbconvert_exporter": "python",
   "pygments_lexer": "ipython3",
   "version": "3.7.0"
  }
 },
 "nbformat": 4,
 "nbformat_minor": 2
}
