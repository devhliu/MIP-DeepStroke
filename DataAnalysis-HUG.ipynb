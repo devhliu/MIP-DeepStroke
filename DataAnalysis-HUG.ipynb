{
 "cells": [
  {
   "cell_type": "code",
   "execution_count": 1,
   "metadata": {},
   "outputs": [],
   "source": [
    "%matplotlib inline\n",
    "import nibabel\n",
    "import os\n",
    "import numpy as np\n",
    "import matplotlib.pyplot as plt\n",
    "from matplotlib import colors\n",
    "from ipywidgets import interact, widget, IntSlider\n",
    "from skimage import measure"
   ]
  },
  {
   "cell_type": "code",
   "execution_count": 2,
   "metadata": {},
   "outputs": [
    {
     "name": "stdout",
     "output_type": "stream",
     "text": [
      "Number of patients : 3\n"
     ]
    }
   ],
   "source": [
    "maindir = \"C:\\\\Users\\simon\\Documents\\EPFL\\Master\\Semestre5\\Projet MIPLAB\\DataTest\"\n",
    "lesion_files = []\n",
    "t2_files = []\n",
    "for patient in os.listdir(maindir):\n",
    "    if \"excluded\" in patient:\n",
    "        continue\n",
    "    folderpath = os.listdir(os.path.join(maindir,patient))[0]\n",
    "    folderpath = os.path.join(maindir,patient,folderpath)\n",
    "    lesion = [os.path.join(folderpath,x) for x in os.listdir(folderpath) if x.startswith(\"rcoreg\") and (\"VOI\") in x][0]\n",
    "    t2 = [os.path.join(folderpath,x) for x in os.listdir(folderpath) if x.startswith(\"rcoreg\") and (\"t2\") in x][0]\n",
    "    lesion_files.append(lesion)\n",
    "    t2_files.append(t2)\n",
    "    \n",
    "#check integrity\n",
    "assert(len(t2_files)==len(lesion_files))\n",
    "brain_file = t2_files[0]\n",
    "\n",
    "# Load data of patients\n",
    "list_lesion_data = []\n",
    "for file in lesion_files:\n",
    "    x = nibabel.load(file).get_data()\n",
    "    list_lesion_data.append(x)\n",
    "numpy_lesions = np.array(list_lesion_data)\n",
    "\n",
    "# Load a reference MRI coregistrated scan\n",
    "T2 = nibabel.load(brain_file).get_data()\n",
    "\n",
    "print(\"Number of patients : {}\".format(len(lesion_files)))"
   ]
  },
  {
   "cell_type": "markdown",
   "metadata": {},
   "source": [
    "The dataset contains 55 valid patients (scan can be coregistrated)."
   ]
  },
  {
   "cell_type": "markdown",
   "metadata": {},
   "source": [
    "## Location of lesions"
   ]
  },
  {
   "cell_type": "code",
   "execution_count": 3,
   "metadata": {},
   "outputs": [],
   "source": [
    "s = np.sum(numpy_lesions,axis=0)\n",
    "voxel_size = [np.sum(x) for x in numpy_lesions]\n",
    "\n",
    "merged_image = np.empty(shape=(s.shape[0], s.shape[1], s.shape[2],3))\n",
    "merged_image[:,:,:,0] = (s/np.max(s))\n",
    "merged_image[:,:,:,2] = (T2/np.max(T2))"
   ]
  },
  {
   "cell_type": "code",
   "execution_count": 4,
   "metadata": {},
   "outputs": [],
   "source": [
    "def plot_lesion_heatmap(layer):\n",
    "    ax = plt.figure(figsize=[10,10])\n",
    "    plt.imshow((merged_image[:,:,layer,:]* 255).astype(np.uint8))\n",
    "    plt.title(\"Sum of lesion locations\",fontsize=20)\n",
    "    norm = colors.Normalize(vmin=0, vmax=np.max(s))\n",
    "    \n",
    "    #Create colormap\n",
    "    C = np.array([(x,0,0) for x in range(255)]) # Black to red, linear\n",
    "    cm = colors.ListedColormap(C/255.0)\n",
    "    sm = plt.cm.ScalarMappable(cmap=cm, norm=norm)\n",
    "    sm.set_array([])\n",
    "    plt.colorbar(sm,fraction=0.0385, pad=0.04)"
   ]
  },
  {
   "cell_type": "code",
   "execution_count": 5,
   "metadata": {},
   "outputs": [
    {
     "data": {
      "application/vnd.jupyter.widget-view+json": {
       "model_id": "1de97838c6ea4560814111093efb6420",
       "version_major": 2,
       "version_minor": 0
      },
      "text/html": [
       "<p>Failed to display Jupyter Widget of type <code>interactive</code>.</p>\n",
       "<p>\n",
       "  If you're reading this message in the Jupyter Notebook or JupyterLab Notebook, it may mean\n",
       "  that the widgets JavaScript is still loading. If this message persists, it\n",
       "  likely means that the widgets JavaScript library is either not installed or\n",
       "  not enabled. See the <a href=\"https://ipywidgets.readthedocs.io/en/stable/user_install.html\">Jupyter\n",
       "  Widgets Documentation</a> for setup instructions.\n",
       "</p>\n",
       "<p>\n",
       "  If you're reading this message in another frontend (for example, a static\n",
       "  rendering on GitHub or <a href=\"https://nbviewer.jupyter.org/\">NBViewer</a>),\n",
       "  it may mean that your frontend doesn't currently support widgets.\n",
       "</p>\n"
      ],
      "text/plain": [
       "interactive(children=(IntSlider(value=31, description='layer', max=31), Output()), _dom_classes=('widget-interact',))"
      ]
     },
     "metadata": {},
     "output_type": "display_data"
    }
   ],
   "source": [
    "interactive_plot = interact(plot_lesion_heatmap, layer=IntSlider(min=0,max=s.shape[2]-1,step=1,value=40))"
   ]
  },
  {
   "cell_type": "markdown",
   "metadata": {},
   "source": [
    "We can observe that the dataset is imbalanced, with about 30% of the patient that have a lesion in the right "
   ]
  },
  {
   "cell_type": "code",
   "execution_count": 6,
   "metadata": {},
   "outputs": [
    {
     "data": {
      "image/png": "[encoded data removed]",
      "text/plain": [
       "<matplotlib.figure.Figure at 0x1e81ca492e8>"
      ]
     },
     "metadata": {},
     "output_type": "display_data"
    }
   ],
   "source": [
    "plt.figure(figsize=(10,5))\n",
    "plt.hist(voxel_size,color=\"r\")\n",
    "plt.title(\"Distribution of infracted voxels in patient\",size=20)\n",
    "plt.xlabel(\"Infracted voxels\")\n",
    "plt.ylabel(\"Number of patients\")\n",
    "plt.show()"
   ]
  },
  {
   "cell_type": "code",
   "execution_count": 7,
   "metadata": {},
   "outputs": [
    {
     "data": {
      "image/png": "[encoded data removed]",
      "text/plain": [
       "<matplotlib.figure.Figure at 0x1e81c989240>"
      ]
     },
     "metadata": {},
     "output_type": "display_data"
    }
   ],
   "source": [
    "number_lesions = [np.max(measure.label(x, background=0)) for x in list_lesion_data]\n",
    "plt.figure(figsize=[10,5])\n",
    "plt.hist(number_lesions)\n",
    "plt.title(\"Distribution of infracted sites per patient\",size=20)\n",
    "plt.xlabel(\"Number of infracted sites\")\n",
    "plt.xlabel(\"Number of patients\")\n",
    "plt.show()"
   ]
  },
  {
   "cell_type": "markdown",
   "metadata": {},
   "source": [
    "## Numerical analysis of Input Data"
   ]
  },
  {
   "cell_type": "code",
   "execution_count": 8,
   "metadata": {},
   "outputs": [],
   "source": [
    "def normalize(img):\n",
    "    mean = np.mean(img)\n",
    "    std = np.std(img)\n",
    "    return (img-mean)/std"
   ]
  },
  {
   "cell_type": "code",
   "execution_count": 9,
   "metadata": {},
   "outputs": [
    {
     "name": "stderr",
     "output_type": "stream",
     "text": [
      "100%|████████████████████████████████████████████████████████████████████████████████████| 3/3 [00:05<00:00,  1.99s/it]\n"
     ]
    }
   ],
   "source": [
    "from tqdm import tqdm\n",
    "normalized_imgs = []\n",
    "lesions_data = []\n",
    "non_lesion_data = []\n",
    "\n",
    "for file in tqdm(t2_files):\n",
    "    lesion_file = file.replace(\"t2_tse_tra\",\"VOI_lesion\")\n",
    "    x = nibabel.load(file).get_data()\n",
    "    y = nibabel.load(lesion_file).get_data()\n",
    "    img = normalize(x)\n",
    "    \n",
    "    # get indices where lesion=1\n",
    "    lesion = img[np.where(y==1)]\n",
    "    non_lesion = img[np.where(y==0)]\n",
    "    \n",
    "    img = list(img.flatten())\n",
    "    \n",
    "    normalized_imgs.append(img)\n",
    "    lesions_data.append(lesion)\n",
    "    non_lesion_data.append(non_lesion)"
   ]
  },
  {
   "cell_type": "code",
   "execution_count": 10,
   "metadata": {},
   "outputs": [
    {
     "name": "stderr",
     "output_type": "stream",
     "text": [
      "C:\\Users\\simon\\Anaconda3\\lib\\site-packages\\numpy\\lib\\function_base.py:4291: RuntimeWarning: Invalid value encountered in percentile\n",
      "  interpolation=interpolation)\n",
      "C:\\Users\\simon\\Anaconda3\\lib\\site-packages\\matplotlib\\cbook\\__init__.py:1856: RuntimeWarning: invalid value encountered in less_equal\n",
      "  wiskhi = np.compress(x <= hival, x)\n",
      "C:\\Users\\simon\\Anaconda3\\lib\\site-packages\\matplotlib\\cbook\\__init__.py:1863: RuntimeWarning: invalid value encountered in greater_equal\n",
      "  wisklo = np.compress(x >= loval, x)\n",
      "C:\\Users\\simon\\Anaconda3\\lib\\site-packages\\matplotlib\\cbook\\__init__.py:1871: RuntimeWarning: invalid value encountered in less\n",
      "  np.compress(x < stats['whislo'], x),\n",
      "C:\\Users\\simon\\Anaconda3\\lib\\site-packages\\matplotlib\\cbook\\__init__.py:1872: RuntimeWarning: invalid value encountered in greater\n",
      "  np.compress(x > stats['whishi'], x)\n"
     ]
    },
    {
     "data": {
      "image/png": "[encoded data removed]",
      "text/plain": [
       "<matplotlib.figure.Figure at 0x1e81c9946d8>"
      ]
     },
     "metadata": {},
     "output_type": "display_data"
    }
   ],
   "source": [
    "plt.figure(figsize=[16,9])\n",
    "plt.boxplot(normalized_imgs)\n",
    "plt.title(\"Distribution of image values in T2, normalized.\")\n",
    "plt.show()"
   ]
  },
  {
   "cell_type": "code",
   "execution_count": 11,
   "metadata": {},
   "outputs": [
    {
     "name": "stderr",
     "output_type": "stream",
     "text": [
      "C:\\Users\\simon\\Anaconda3\\lib\\site-packages\\numpy\\lib\\function_base.py:4291: RuntimeWarning: Invalid value encountered in percentile\n",
      "  interpolation=interpolation)\n",
      "C:\\Users\\simon\\Anaconda3\\lib\\site-packages\\matplotlib\\cbook\\__init__.py:1856: RuntimeWarning: invalid value encountered in less_equal\n",
      "  wiskhi = np.compress(x <= hival, x)\n",
      "C:\\Users\\simon\\Anaconda3\\lib\\site-packages\\matplotlib\\cbook\\__init__.py:1863: RuntimeWarning: invalid value encountered in greater_equal\n",
      "  wisklo = np.compress(x >= loval, x)\n",
      "C:\\Users\\simon\\Anaconda3\\lib\\site-packages\\matplotlib\\cbook\\__init__.py:1871: RuntimeWarning: invalid value encountered in less\n",
      "  np.compress(x < stats['whislo'], x),\n",
      "C:\\Users\\simon\\Anaconda3\\lib\\site-packages\\matplotlib\\cbook\\__init__.py:1872: RuntimeWarning: invalid value encountered in greater\n",
      "  np.compress(x > stats['whishi'], x)\n"
     ]
    },
    {
     "data": {
      "image/png": "[encoded data removed]",
      "text/plain": [
       "<matplotlib.figure.Figure at 0x1e8529149b0>"
      ]
     },
     "metadata": {},
     "output_type": "display_data"
    }
   ],
   "source": [
    "plt.figure(figsize=[16,9])\n",
    "plt.boxplot(lesions_data)\n",
    "plt.title(\"Distribution of image values in T2, under lesion.\")\n",
    "plt.show()"
   ]
  },
  {
   "cell_type": "code",
   "execution_count": 12,
   "metadata": {},
   "outputs": [
    {
     "name": "stderr",
     "output_type": "stream",
     "text": [
      "C:\\Users\\simon\\Anaconda3\\lib\\site-packages\\numpy\\lib\\function_base.py:4291: RuntimeWarning: Invalid value encountered in percentile\n",
      "  interpolation=interpolation)\n",
      "C:\\Users\\simon\\Anaconda3\\lib\\site-packages\\matplotlib\\cbook\\__init__.py:1856: RuntimeWarning: invalid value encountered in less_equal\n",
      "  wiskhi = np.compress(x <= hival, x)\n",
      "C:\\Users\\simon\\Anaconda3\\lib\\site-packages\\matplotlib\\cbook\\__init__.py:1863: RuntimeWarning: invalid value encountered in greater_equal\n",
      "  wisklo = np.compress(x >= loval, x)\n",
      "C:\\Users\\simon\\Anaconda3\\lib\\site-packages\\matplotlib\\cbook\\__init__.py:1871: RuntimeWarning: invalid value encountered in less\n",
      "  np.compress(x < stats['whislo'], x),\n",
      "C:\\Users\\simon\\Anaconda3\\lib\\site-packages\\matplotlib\\cbook\\__init__.py:1872: RuntimeWarning: invalid value encountered in greater\n",
      "  np.compress(x > stats['whishi'], x)\n"
     ]
    },
    {
     "data": {
      "image/png": "[encoded data removed]",
      "text/plain": [
       "<matplotlib.figure.Figure at 0x1e852f2c940>"
      ]
     },
     "metadata": {},
     "output_type": "display_data"
    }
   ],
   "source": [
    "plt.figure(figsize=[16,9])\n",
    "plt.boxplot(non_lesion_data)\n",
    "plt.title(\"Distribution of image values in T2, under lesion.\")\n",
    "plt.show()"
   ]
  },
  {
   "cell_type": "code",
   "execution_count": null,
   "metadata": {},
   "outputs": [],
   "source": []
  }
 ],
 "metadata": {
  "kernelspec": {
   "display_name": "Python 3",
   "language": "python",
   "name": "python3"
  },
  "language_info": {
   "codemirror_mode": {
    "name": "ipython",
    "version": 3
   },
   "file_extension": ".py",
   "mimetype": "text/x-python",
   "name": "python",
   "nbconvert_exporter": "python",
   "pygments_lexer": "ipython3",
   "version": "3.6.4"
  }
 },
 "nbformat": 4,
 "nbformat_minor": 2
}
