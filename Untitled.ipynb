{
 "cells": [
  {
   "cell_type": "code",
   "execution_count": 1,
   "metadata": {},
   "outputs": [
    {
     "name": "stderr",
     "output_type": "stream",
     "text": [
      "/home/simon/anaconda3/lib/python3.6/site-packages/h5py/__init__.py:36: FutureWarning: Conversion of the second argument of issubdtype from `float` to `np.floating` is deprecated. In future, it will be treated as `np.float64 == np.dtype(float).type`.\n",
      "  from ._conv import register_converters as _register_converters\n"
     ]
    }
   ],
   "source": [
    "%matplotlib inline\n",
    "import paramiko\n",
    "import getpass\n",
    "import cv2\n",
    "import os\n",
    "import numpy as np\n",
    "import nibabel as nb\n",
    "from tqdm import tqdm\n",
    "import matplotlib.pyplot as plt"
   ]
  },
  {
   "cell_type": "code",
   "execution_count": 2,
   "metadata": {},
   "outputs": [
    {
     "name": "stdout",
     "output_type": "stream",
     "text": [
      "Password········\n"
     ]
    }
   ],
   "source": [
    "s = paramiko.SSHClient()\n",
    "s.set_missing_host_key_policy(paramiko.AutoAddPolicy())\n",
    "p = getpass.getpass('Password')\n",
    "s.connect(\"miplabsrv3.epfl.ch\",22,username=\"snarduzz\",password=p,timeout=4)"
   ]
  },
  {
   "cell_type": "code",
   "execution_count": 3,
   "metadata": {},
   "outputs": [],
   "source": [
    "def normalize(v):\n",
    "    m = v.max()\n",
    "    if(m==0):\n",
    "        return np.zeros(v.shape)\n",
    "    else:\n",
    "        return v/m\n",
    "\n",
    "def get_ftp_image(path,ssh_client=s):\n",
    "    local = \"/tmp/file.nii\"\n",
    "    sftp = ssh_client.open_sftp()\n",
    "    with sftp.open(path) as f:\n",
    "        data = f.read()\n",
    "        with open(local,\"wb\") as local_f:\n",
    "            local_f.write(data)\n",
    "        img = nb.load(local).get_data()\n",
    "    return img"
   ]
  },
  {
   "cell_type": "code",
   "execution_count": 5,
   "metadata": {},
   "outputs": [
    {
     "name": "stderr",
     "output_type": "stream",
     "text": [
      "100%|██████████| 51/51 [06:49<00:00,  8.04s/it]\n"
     ]
    }
   ],
   "source": [
    "directory = \"/home/klug/data/preprocessed_original/\"\n",
    "\n",
    "sftp = s.open_sftp()\n",
    "patients = sftp.listdir(directory)\n",
    "\n",
    "patient_lesion_size = {}\n",
    "zeros = {}\n",
    "tissue = {}\n",
    "for p in tqdm(patients):\n",
    "    lesion = get_ftp_image(os.path.join(directory,p,\"Neuro_Cerebrale_64Ch\",\"wcoreg_VOI_lesion_{}.nii\".format(p)))\n",
    "    MTT = get_ftp_image(os.path.join(directory,p,\"Ct2_Cerebrale\",\"wcoreg_RAPID_MTT_{}.nii\".format(p)))\n",
    "    Tmax = get_ftp_image(os.path.join(directory,p,\"Ct2_Cerebrale\",\"wcoreg_RAPID_Tmax_{}.nii\".format(p)))\n",
    "    CBF = get_ftp_image(os.path.join(directory,p,\"Ct2_Cerebrale\",\"wcoreg_RAPID_rCBF_{}.nii\".format(p)))\n",
    "    CBV = get_ftp_image(os.path.join(directory,p,\"Ct2_Cerebrale\",\"wcoreg_RAPID_rCBV_{}.nii\".format(p)))\n",
    "    \n",
    "    patient_lesion_size[p] = np.sum(normalize(lesion))\n",
    "    tissue[p] = np.count_nonzero(MTT)-patient_lesion_size[p]\n",
    "    zeros[p] = MTT.size-tissue[p]+patient_lesion_size[p]\n"
   ]
  },
  {
   "cell_type": "code",
   "execution_count": null,
   "metadata": {},
   "outputs": [],
   "source": [
    "print(\"Lesion shape : {}\".format(lesion.shape))\n",
    "print(\"MTT shape : {}\".format(MTT.shape))\n",
    "print(\"CBV shape : {}\".format(CBV.shape))\n",
    "print(\"CBF shape : {}\".format(CBF.shape))\n",
    "print(\"Tmax shape : {}\".format(Tmax.shape))"
   ]
  },
  {
   "cell_type": "code",
   "execution_count": null,
   "metadata": {},
   "outputs": [],
   "source": [
    "plt.Figure(figsize=[4,7])\n",
    "plt.hist(patient_lesion_size.values())\n",
    "plt.title(\"Distribution of lesion size\")\n",
    "plt.xlabel(\"Size (voxels)\")\n",
    "plt.ylabel(\"Total patients\")\n",
    "plt.show()"
   ]
  },
  {
   "cell_type": "code",
   "execution_count": null,
   "metadata": {},
   "outputs": [],
   "source": [
    "plt.Figure(figsize=[4,7])\n",
    "plt.hist(zeros.values())\n",
    "plt.title(\"Distribution of Non-tissue voxels (background)\")\n",
    "plt.xlabel(\"Size (voxels)\")\n",
    "plt.ylabel(\"Total patients\")\n",
    "plt.show()"
   ]
  },
  {
   "cell_type": "code",
   "execution_count": null,
   "metadata": {},
   "outputs": [],
   "source": [
    "plt.Figure(figsize=[4,7])\n",
    "plt.hist(tissue.values())\n",
    "plt.title(\"Distribution of healthy tissue voxels (non-lesioned)\")\n",
    "plt.xlabel(\"Size (voxels)\")\n",
    "plt.ylabel(\"Total patients\")\n",
    "plt.show()"
   ]
  }
 ],
 "metadata": {
  "kernelspec": {
   "display_name": "Python 3",
   "language": "python",
   "name": "python3"
  },
  "language_info": {
   "codemirror_mode": {
    "name": "ipython",
    "version": 3
   },
   "file_extension": ".py",
   "mimetype": "text/x-python",
   "name": "python",
   "nbconvert_exporter": "python",
   "pygments_lexer": "ipython3",
   "version": "3.6.4"
  }
 },
 "nbformat": 4,
 "nbformat_minor": 2
}
